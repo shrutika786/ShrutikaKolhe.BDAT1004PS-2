{
 "cells": [
  {
   "cell_type": "code",
   "execution_count": 1,
   "id": "b39e1f88",
   "metadata": {},
   "outputs": [],
   "source": [
    "class Marsupial(object):\n",
    "    def __init__(self):\n",
    "        self.mylist = []\n",
    "    def put_in_pouch(self,item):\n",
    "        self.mylist.append(item)\n",
    "    def pouch_contents(self):\n",
    "        return self.mylist\n",
    "    "
   ]
  },
  {
   "cell_type": "code",
   "execution_count": 2,
   "id": "01e947ed",
   "metadata": {},
   "outputs": [
    {
     "data": {
      "text/plain": [
       "['doll', 'firetruck', 'kitten']"
      ]
     },
     "execution_count": 2,
     "metadata": {},
     "output_type": "execute_result"
    }
   ],
   "source": [
    "m = Marsupial()\n",
    "m.put_in_pouch('doll')\n",
    "m.put_in_pouch('firetruck')\n",
    "m.put_in_pouch('kitten')\n",
    "m.pouch_contents()\n"
   ]
  },
  {
   "cell_type": "code",
   "execution_count": 3,
   "id": "020f9448",
   "metadata": {},
   "outputs": [],
   "source": [
    "class Kangaroo(Marsupial):\n",
    "    def __init__(self,x,y):\n",
    "        Marsupial.__init__(self)\n",
    "        self.x = x\n",
    "        self.y = y\n",
    "    def jump(self,dx,dy):\n",
    "        self.x = self.x + dx\n",
    "        self.y = self.y + dy\n",
    "    def __str__(self):\n",
    "        return 'I am a kangaroo located at coordinates ({},{})'.format(self.x,self.y)"
   ]
  },
  {
   "cell_type": "code",
   "execution_count": 4,
   "id": "acfd0122",
   "metadata": {},
   "outputs": [
    {
     "name": "stdout",
     "output_type": "stream",
     "text": [
      "I am a kangaroo located at coordinates (0,0)\n"
     ]
    }
   ],
   "source": [
    "kang = Kangaroo(0,0)\n",
    "print(kang)"
   ]
  },
  {
   "cell_type": "code",
   "execution_count": 5,
   "id": "1e7f3c50",
   "metadata": {},
   "outputs": [
    {
     "data": {
      "text/plain": [
       "['doll', 'firetruck', 'kitten']"
      ]
     },
     "execution_count": 5,
     "metadata": {},
     "output_type": "execute_result"
    }
   ],
   "source": [
    "kang.put_in_pouch('doll')\n",
    "kang.put_in_pouch('firetruck')\n",
    "kang.put_in_pouch('kitten')\n",
    "kang.pouch_contents()"
   ]
  },
  {
   "cell_type": "code",
   "execution_count": 6,
   "id": "713303bd",
   "metadata": {},
   "outputs": [
    {
     "name": "stdout",
     "output_type": "stream",
     "text": [
      "I am a kangaroo located at coordinates (3,0)\n"
     ]
    }
   ],
   "source": [
    "kang.jump(1,0)\n",
    "kang.jump(1,0)\n",
    "kang.jump(1,0)\n",
    "print(kang)"
   ]
  },
  {
   "cell_type": "code",
   "execution_count": null,
   "id": "83a80d1a",
   "metadata": {},
   "outputs": [],
   "source": []
  }
 ],
 "metadata": {
  "kernelspec": {
   "display_name": "Python 3 (ipykernel)",
   "language": "python",
   "name": "python3"
  },
  "language_info": {
   "codemirror_mode": {
    "name": "ipython",
    "version": 3
   },
   "file_extension": ".py",
   "mimetype": "text/x-python",
   "name": "python",
   "nbconvert_exporter": "python",
   "pygments_lexer": "ipython3",
   "version": "3.9.12"
  }
 },
 "nbformat": 4,
 "nbformat_minor": 5
}
